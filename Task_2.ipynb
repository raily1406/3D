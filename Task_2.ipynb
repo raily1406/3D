{
  "cells": [
    {
      "cell_type": "code",
      "execution_count": 2,
      "metadata": {
        "id": "SdZlcQc1ut8T"
      },
      "outputs": [],
      "source": [
        "import numpy as np\n",
        "import scipy as sp\n",
        "import matplotlib.pyplot as plt\n",
        "import seaborn as sns\n",
        "\n",
        "%matplotlib inline"
      ]
    },
    {
      "cell_type": "markdown",
      "metadata": {
        "id": "EyR4tgtgut8X"
      },
      "source": [
        "# 2. Работа с массивами NumPy"
      ]
    },
    {
      "cell_type": "markdown",
      "metadata": {
        "id": "To7u7X0Nut8a"
      },
      "source": [
        "**N. Все упражнения ниже нужно делать без использования циклов Python**\n",
        "\n",
        "**2.1.** Cоздать вектор\n",
        "\n",
        "$$(2, \\frac{2^2}{2}, \\ldots, \\frac{2^{20}}{20})$$\n",
        "\n",
        "Можно использовать функции [np.arange()](http://docs.scipy.org/doc/numpy/reference/generated/numpy.arange.html), [np.ones()](http://docs.scipy.org/doc/numpy/reference/generated/numpy.ones.html)"
      ]
    },
    {
      "cell_type": "code",
      "execution_count": 3,
      "metadata": {
        "colab": {
          "base_uri": "https://localhost:8080/"
        },
        "id": "_5UqcJf8ut8b",
        "outputId": "3063d1c4-784e-41bc-8c72-6bd8187b0fec"
      },
      "outputs": [
        {
          "output_type": "execute_result",
          "data": {
            "text/plain": [
              "array([2.00000000e+00, 2.00000000e+00, 2.66666667e+00, 4.00000000e+00,\n",
              "       6.40000000e+00, 1.06666667e+01, 1.82857143e+01, 3.20000000e+01,\n",
              "       5.68888889e+01, 1.02400000e+02, 1.86181818e+02, 3.41333333e+02,\n",
              "       6.30153846e+02, 1.17028571e+03, 2.18453333e+03, 4.09600000e+03,\n",
              "       7.71011765e+03, 1.45635556e+04, 2.75941053e+04, 5.24288000e+04])"
            ]
          },
          "metadata": {},
          "execution_count": 3
        }
      ],
      "source": [
        "2**np.arange(1, 21)/np.arange(1, 21)"
      ]
    },
    {
      "cell_type": "markdown",
      "metadata": {
        "id": "un1igfp-ut8c"
      },
      "source": [
        "**2.2.** Посчитать:\n",
        "\n",
        "$$\\sum\\limits_{i=0}^{5}{0.1^{3i}0.2^{4i}}$$\n"
      ]
    },
    {
      "cell_type": "code",
      "execution_count": 4,
      "metadata": {
        "colab": {
          "base_uri": "https://localhost:8080/"
        },
        "id": "MO5KJqSPut8c",
        "outputId": "0accb300-3fcf-4570-b2f6-a1bf03d6a480"
      },
      "outputs": [
        {
          "output_type": "execute_result",
          "data": {
            "text/plain": [
              "1.00000160000256"
            ]
          },
          "metadata": {},
          "execution_count": 4
        }
      ],
      "source": [
        "np.sum(0.1**(3*np.arange(6))*0.2**(4*np.arange(6)))"
      ]
    },
    {
      "cell_type": "markdown",
      "metadata": {
        "id": "u14N5ufgut8d"
      },
      "source": [
        "**2.3.** Создать нулевую матрицe $8 \\times 8$, и заполнить её единицами в шахматном порядке."
      ]
    },
    {
      "cell_type": "code",
      "execution_count": 5,
      "metadata": {
        "colab": {
          "base_uri": "https://localhost:8080/"
        },
        "id": "bjVFG1nYut8e",
        "outputId": "67fee42d-4505-48e1-8983-67813383c1fa"
      },
      "outputs": [
        {
          "output_type": "execute_result",
          "data": {
            "text/plain": [
              "array([[0, 1, 0, 1, 0, 1, 0, 1],\n",
              "       [1, 0, 1, 0, 1, 0, 1, 0],\n",
              "       [0, 1, 0, 1, 0, 1, 0, 1],\n",
              "       [1, 0, 1, 0, 1, 0, 1, 0],\n",
              "       [0, 1, 0, 1, 0, 1, 0, 1],\n",
              "       [1, 0, 1, 0, 1, 0, 1, 0],\n",
              "       [0, 1, 0, 1, 0, 1, 0, 1],\n",
              "       [1, 0, 1, 0, 1, 0, 1, 0]])"
            ]
          },
          "metadata": {},
          "execution_count": 5
        }
      ],
      "source": [
        "x = np.ones((3,3))\n",
        "x = np.zeros((8,8),dtype=int)\n",
        "x[1::2,::2] = 1\n",
        "x[::2,1::2] = 1\n",
        "x"
      ]
    },
    {
      "cell_type": "markdown",
      "metadata": {
        "id": "wUXF5OtDut8f"
      },
      "source": [
        "**2.4.** Есть 5 точек в декартовой системе координат (в виде матрицы $X$ размерностью $5 \\times 2$), сконвертируйте эти точки в полярную систему координат."
      ]
    },
    {
      "cell_type": "code",
      "execution_count": 6,
      "metadata": {
        "colab": {
          "base_uri": "https://localhost:8080/"
        },
        "id": "7vuBcKJmut8g",
        "outputId": "0df986b5-b669-46ba-b058-126025f748bb"
      },
      "outputs": [
        {
          "output_type": "execute_result",
          "data": {
            "text/plain": [
              "array([[1.17120259, 0.62793533],\n",
              "       [1.2100323 , 0.61776536],\n",
              "       [0.96488405, 1.25966624],\n",
              "       [0.52532249, 1.19093085],\n",
              "       [0.56606686, 0.92796212]])"
            ]
          },
          "metadata": {},
          "execution_count": 6
        }
      ],
      "source": [
        "X = np.random.random((5, 2))\n",
        "np.vstack([(X[::, 0]**2 + X[::, 1]**2)**0.5, np.arctan(X[::, 1]/(X[::, 0]))]).T"
      ]
    },
    {
      "cell_type": "markdown",
      "metadata": {
        "id": "F85N37oout8g"
      },
      "source": [
        "**2.5.** Найдите индексы максимального элемента в случайной матрице $10 \\times 10$.\n",
        "\n",
        "Cм. [np.argmax()](http://docs.scipy.org/doc/numpy/reference/generated/numpy.argmax.html)."
      ]
    },
    {
      "cell_type": "code",
      "execution_count": 7,
      "metadata": {
        "colab": {
          "base_uri": "https://localhost:8080/"
        },
        "id": "ryUqVUVLut8h",
        "outputId": "ca64f57f-7bc7-4e08-e563-9dc7fb96357a"
      },
      "outputs": [
        {
          "output_type": "execute_result",
          "data": {
            "text/plain": [
              "(1, 7)"
            ]
          },
          "metadata": {},
          "execution_count": 7
        }
      ],
      "source": [
        "X = np.random.random((10, 10))\n",
        "np.argmax(X) // X.shape[1], np.argmax(X) % X.shape[1]\n",
        "\n"
      ]
    },
    {
      "cell_type": "markdown",
      "metadata": {
        "id": "RZ0MmsN_ut8h"
      },
      "source": [
        "**2.6.** Есть 10 точек ($X$) и ещё одна ($y$). Найти в $X$ ближайшую к $y$ точку."
      ]
    },
    {
      "cell_type": "code",
      "execution_count": 8,
      "metadata": {
        "colab": {
          "base_uri": "https://localhost:8080/"
        },
        "id": "0ptBi85Dut8i",
        "outputId": "8223089e-526f-4b10-8dcb-b67cede9b31d"
      },
      "outputs": [
        {
          "output_type": "execute_result",
          "data": {
            "text/plain": [
              "array([0.57611498, 0.92885312])"
            ]
          },
          "metadata": {},
          "execution_count": 8
        }
      ],
      "source": [
        "X = np.random.random((10, 2))\n",
        "y = np.random.random((1, 2))\n",
        "\n",
        "X[np.argmin(np.linalg.norm(X - y, axis=1))]"
      ]
    },
    {
      "cell_type": "markdown",
      "metadata": {
        "id": "qV4DhKQDut8j"
      },
      "source": [
        "**2.7.** Дана функция:\n",
        "\n",
        "$$\n",
        " \\begin{cases}\n",
        "    x^2 + 2x + 6, & x < 0  \\\\\n",
        "    x + 6, & 0 \\le x \\le 2 \\\\\n",
        "    x^2 + 4x - 4, & x \\ge 2\n",
        " \\end{cases}\n",
        "$$\n",
        "\n",
        "Постройте массив из её значений на  $-3 \\le x \\le 3$."
      ]
    },
    {
      "cell_type": "code",
      "execution_count": 9,
      "metadata": {
        "colab": {
          "base_uri": "https://localhost:8080/"
        },
        "id": "VtknmF36ut8k",
        "outputId": "6383387a-5fc6-4bca-e97c-54c1124d1d17"
      },
      "outputs": [
        {
          "output_type": "execute_result",
          "data": {
            "text/plain": [
              "array([ 9.  ,  8.61,  8.24,  7.89,  7.56,  7.25,  6.96,  6.69,  6.44,\n",
              "        6.21,  6.  ,  5.81,  5.64,  5.49,  5.36,  5.25,  5.16,  5.09,\n",
              "        5.04,  5.01,  5.  ,  5.01,  5.04,  5.09,  5.16,  5.25,  5.36,\n",
              "        5.49,  5.64,  5.81,  6.  ,  6.1 ,  6.2 ,  6.3 ,  6.4 ,  6.5 ,\n",
              "        6.6 ,  6.7 ,  6.8 ,  6.9 ,  7.  ,  7.1 ,  7.2 ,  7.3 ,  7.4 ,\n",
              "        7.5 ,  7.6 ,  7.7 ,  7.8 ,  7.9 ,  8.  ,  8.81,  9.64, 10.49,\n",
              "       11.36, 12.25, 13.16, 14.09, 15.04, 16.01])"
            ]
          },
          "metadata": {},
          "execution_count": 9
        }
      ],
      "source": [
        "np.hstack((np.arange(-3, 0, 0.1) ** 2 + 2 * np.arange(-3, 0, 0.1) + 6, np.arange(0, 2, 0.1) + 6, \n",
        "           np.arange(2, 3, 0.1) ** 2 + 4 * np.arange(2, 3, 0.1) - 4))"
      ]
    },
    {
      "cell_type": "markdown",
      "metadata": {
        "id": "JojFNJvtut8k"
      },
      "source": [
        "**2.8.** Из каждого элемента матрицы вычесть среднее арифметическое от всех элементов в соответствующей строке (после чего среднее значение каждой строки должно равняться нулю).\n",
        "\n",
        "Cм. [np.mean()](http://docs.scipy.org/doc/numpy/reference/generated/numpy.mean.html)."
      ]
    },
    {
      "cell_type": "code",
      "execution_count": 10,
      "metadata": {
        "colab": {
          "base_uri": "https://localhost:8080/"
        },
        "id": "ZXbIs9ktut8l",
        "outputId": "d77b57bf-7cb3-4dd0-ea90-ab080b5d579a"
      },
      "outputs": [
        {
          "output_type": "execute_result",
          "data": {
            "text/plain": [
              "array([[ 0.0329655 , -0.06855091, -0.04049801,  0.28743737, -0.09631273,\n",
              "        -0.38959316,  0.14851176,  0.00349791,  0.38774518, -0.26520292],\n",
              "       [ 0.33151056, -0.3283731 ,  0.30012923, -0.46469902, -0.45609226,\n",
              "         0.34320955,  0.25072902, -0.02560157,  0.30094105, -0.25175347],\n",
              "       [ 0.07010382, -0.22378088, -0.48628484,  0.32764449,  0.32605501,\n",
              "         0.24787388,  0.1021723 , -0.24477925,  0.38662377, -0.5056283 ],\n",
              "       [ 0.27152109, -0.33343056,  0.20756576, -0.30579806,  0.23651443,\n",
              "        -0.04831784,  0.11502101,  0.19695453, -0.57293477,  0.23290441],\n",
              "       [-0.3241545 ,  0.45867348, -0.30136479, -0.26478367, -0.03559078,\n",
              "        -0.29014342,  0.37003242,  0.00618136,  0.19070777,  0.19044212],\n",
              "       [-0.02400225, -0.34949587, -0.22658986,  0.10541712, -0.01782206,\n",
              "        -0.09473993,  0.03088703, -0.31455588,  0.49956299,  0.3913387 ],\n",
              "       [ 0.19001435, -0.22124836,  0.25962929,  0.20374885,  0.25455926,\n",
              "        -0.39928233, -0.3869232 ,  0.03182339, -0.02104108,  0.08871983],\n",
              "       [-0.10341545,  0.12859937, -0.26936945, -0.23146038,  0.28115135,\n",
              "        -0.15127958,  0.34322099, -0.10892884, -0.26413617,  0.37561816],\n",
              "       [-0.20600486,  0.29246657,  0.27321815, -0.11229692, -0.08396161,\n",
              "        -0.49183964,  0.27982542,  0.29783046, -0.48168083,  0.23244325],\n",
              "       [ 0.22985707, -0.46194963, -0.15190558,  0.27786262,  0.33482327,\n",
              "        -0.40911072, -0.50674866,  0.24767979,  0.0149611 ,  0.42453073]])"
            ]
          },
          "metadata": {},
          "execution_count": 10
        }
      ],
      "source": [
        "X = np.random.random((10, 10))\n",
        "\n",
        "X - np.reshape(np.mean(X, axis=1), (-1, 1))"
      ]
    },
    {
      "cell_type": "markdown",
      "metadata": {
        "id": "wfDPwXlZut8m"
      },
      "source": [
        "**2.9.** Есть массив из 1000 чисел, полученных из генератора случайных чисел, имеющий нормальное распределение. Посчитайте выборочное среднее и выборочную дисперсию. "
      ]
    },
    {
      "cell_type": "code",
      "execution_count": 12,
      "metadata": {
        "colab": {
          "base_uri": "https://localhost:8080/"
        },
        "id": "ayybBLrYut8m",
        "outputId": "f74d6cfd-c741-4ccb-e833-1a071a11e079"
      },
      "outputs": [
        {
          "output_type": "stream",
          "name": "stdout",
          "text": [
            "avg = 5.014356269758388 var = 4.090405667998091\n"
          ]
        }
      ],
      "source": [
        "X = np.random.normal(loc=5, scale=2., size=1000)\n",
        "\n",
        "print('avg =', (np.sum(X) / X.shape).item(),\n",
        "'var =', (np.sum((X - (np.sum(X) / X.shape).item()) ** 2) / X.shape).item())"
      ]
    },
    {
      "cell_type": "markdown",
      "metadata": {
        "id": "IKeI0i7Jut8n"
      },
      "source": [
        "**2.10.** Создать матрицу (NB. БЕЗ ЦИКЛОВ И ИЗМЕНЕНИЯ ОТДЕЛЬНЫХ ЭЛЕМЕНТОВ):\n",
        "\n",
        "$$\n",
        "\\begin{pmatrix}\n",
        "0 & 1 & 2 & 3 & 4 \\\\\n",
        "1 & 2 & 3 & 4 & 0 \\\\\n",
        "2 & 3 & 4 & 0 & 1 \\\\\n",
        "3 & 4 & 0 & 1 & 2 \\\\\n",
        "4 & 0 & 1 & 2 & 3\n",
        "\\end{pmatrix}\n",
        "$$"
      ]
    },
    {
      "cell_type": "code",
      "execution_count": 13,
      "metadata": {
        "colab": {
          "base_uri": "https://localhost:8080/"
        },
        "id": "CaxKUsQhut8o",
        "outputId": "d7b59614-4dba-4e57-b15f-ad15cae07af0"
      },
      "outputs": [
        {
          "output_type": "execute_result",
          "data": {
            "text/plain": [
              "array([[0., 1., 2., 3., 4.],\n",
              "       [1., 2., 3., 4., 0.],\n",
              "       [2., 3., 4., 0., 1.],\n",
              "       [3., 4., 0., 1., 2.],\n",
              "       [4., 0., 1., 2., 3.]])"
            ]
          },
          "metadata": {},
          "execution_count": 13
        }
      ],
      "source": [
        "np.fromfunction(lambda i, j: (i+j)%5, (5, 5))"
      ]
    },
    {
      "cell_type": "markdown",
      "metadata": {
        "id": "zRpOODBWut8o"
      },
      "source": [
        "**2.11.** Есть следующий алгоритм семплинирования, на вход функции подается вектор из целых положительных чисел и число семплов."
      ]
    },
    {
      "cell_type": "code",
      "execution_count": 14,
      "metadata": {
        "colab": {
          "base_uri": "https://localhost:8080/"
        },
        "id": "eibKpefQut8p",
        "outputId": "4de09fd7-4ddd-40cc-fdd7-f0a8daa5975a"
      },
      "outputs": [
        {
          "output_type": "execute_result",
          "data": {
            "text/plain": [
              "[0, 0, 0, 0, 4]"
            ]
          },
          "metadata": {},
          "execution_count": 14
        }
      ],
      "source": [
        "def sample(x, c):\n",
        "    assert len(x) > 0\n",
        "    \n",
        "    s = np.sum(x)\n",
        "    res = []\n",
        "    for _ in range(c):\n",
        "        val = s * np.random.random()\n",
        "        cur, idx = 0, 0        \n",
        "        while cur + x[idx] <= val:\n",
        "            cur += x[idx]\n",
        "            idx += 1\n",
        "            \n",
        "        res.append(idx)\n",
        "    return res\n",
        "\n",
        "            \n",
        "sample([50, 3, 1, 7, 20], 5)    "
      ]
    },
    {
      "cell_type": "markdown",
      "metadata": {
        "id": "8T94_MUTut8q"
      },
      "source": [
        "Реализуйте данный алгоритм более оптимальным способом, без использования циклов."
      ]
    },
    {
      "cell_type": "code",
      "execution_count": 18,
      "metadata": {
        "id": "DJBmX9-Kut8q"
      },
      "outputs": [],
      "source": []
    }
  ],
  "metadata": {
    "kernelspec": {
      "display_name": "Python 3.10.4 64-bit",
      "language": "python",
      "name": "python3"
    },
    "language_info": {
      "codemirror_mode": {
        "name": "ipython",
        "version": 3
      },
      "file_extension": ".py",
      "mimetype": "text/x-python",
      "name": "python",
      "nbconvert_exporter": "python",
      "pygments_lexer": "ipython3",
      "version": "3.10.4"
    },
    "vscode": {
      "interpreter": {
        "hash": "916dbcbb3f70747c44a77c7bcd40155683ae19c65e1c03b4aa3499c5328201f1"
      }
    },
    "colab": {
      "provenance": []
    }
  },
  "nbformat": 4,
  "nbformat_minor": 0
}
