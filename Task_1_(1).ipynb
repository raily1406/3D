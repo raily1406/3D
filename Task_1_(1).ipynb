{
  "metadata": {
    "vscode": {
      "interpreter": {
        "hash": "916dbcbb3f70747c44a77c7bcd40155683ae19c65e1c03b4aa3499c5328201f1"
      }
    },
    "kernelspec": {
      "name": "python",
      "display_name": "Python (Pyodide)",
      "language": "python"
    },
    "language_info": {
      "codemirror_mode": {
        "name": "ipython",
        "version": 3
      },
      "file_extension": ".py",
      "mimetype": "text/x-python",
      "name": "python",
      "nbconvert_exporter": "python",
      "pygments_lexer": "ipython3",
      "version": "3.10.4"
    },
    "colab": {
      "provenance": []
    }
  },
  "nbformat_minor": 0,
  "nbformat": 4,
  "cells": [
    {
      "cell_type": "markdown",
      "source": [
        "# Задание 1.1\n",
        "\n",
        "[Свертка списка](https://ru.wikipedia.org/wiki/%D0%A1%D0%B2%D1%91%D1%80%D1%82%D0%BA%D0%B0_%D1%81%D0%BF%D0%B8%D1%81%D0%BA%D0%B0) -  это обобщенная операция над списком, c помощью которой можно преобразовать список в единое значение. Например, рассмотрим реализации свертки слева и свертки справа (левоассоциативную свертку и правоассоциативную свертку):"
      ],
      "metadata": {
        "id": "ZOYFnUsre76Z"
      }
    },
    {
      "cell_type": "code",
      "source": [
        "def foldl(f, x0, lst):\n",
        "    if not lst:\n",
        "        return x0\n",
        "    return foldl(f, f(x0, lst[0]), lst[1:])\n",
        "\n",
        "def foldr(f, x0, lst):\n",
        "    if not lst:\n",
        "        return x0\n",
        "    return f(lst[0], foldr(f, x0, lst[1:]))"
      ],
      "metadata": {
        "id": "dywo6UPWe76f"
      },
      "execution_count": null,
      "outputs": []
    },
    {
      "cell_type": "code",
      "source": [
        "#сумма\n",
        "foldl(lambda x, y: x + y, 0, [1, 2, 3])"
      ],
      "metadata": {
        "colab": {
          "base_uri": "https://localhost:8080/"
        },
        "id": "A1b7iRr_e76h",
        "outputId": "d8c76776-47c8-485f-831c-937dc7d25a1f"
      },
      "execution_count": null,
      "outputs": [
        {
          "output_type": "execute_result",
          "data": {
            "text/plain": [
              "6"
            ]
          },
          "metadata": {},
          "execution_count": 2
        }
      ]
    },
    {
      "cell_type": "code",
      "source": [
        "#конкатенация\n",
        "foldl(lambda x, y: '{}{}'.format(x, y), '', [1, 2, 3])"
      ],
      "metadata": {
        "colab": {
          "base_uri": "https://localhost:8080/",
          "height": 35
        },
        "id": "VI3XTdeGe76j",
        "outputId": "9754b275-aee7-4341-8804-634f76b738bc"
      },
      "execution_count": null,
      "outputs": [
        {
          "output_type": "execute_result",
          "data": {
            "text/plain": [
              "'123'"
            ],
            "application/vnd.google.colaboratory.intrinsic+json": {
              "type": "string"
            }
          },
          "metadata": {},
          "execution_count": 3
        }
      ]
    },
    {
      "cell_type": "code",
      "source": [
        "f = lambda x, y: x / y\n",
        "foldl(f, 1, [1, 2, 3]), \\\n",
        "foldr(f, 1, [1, 2, 3])"
      ],
      "metadata": {
        "colab": {
          "base_uri": "https://localhost:8080/"
        },
        "id": "6PRBHRGJe76k",
        "outputId": "ddfe16a0-fa8c-4f47-c6b0-63eb3393e182"
      },
      "execution_count": null,
      "outputs": [
        {
          "output_type": "execute_result",
          "data": {
            "text/plain": [
              "(0.16666666666666666, 1.5)"
            ]
          },
          "metadata": {},
          "execution_count": 4
        }
      ]
    },
    {
      "cell_type": "markdown",
      "source": [
        "Задача: реализовать foldl через foldr и наоборот. Вместо многоточий нужно вставить выражения, которые бы привели к нужному результату. Модифицировать сам список нельзя. "
      ],
      "metadata": {
        "id": "w0JVHy3oe76l"
      }
    },
    {
      "cell_type": "code",
      "source": [
        "def foldl2(f, x0, lst):\n",
        "    return foldr(..., ..., lst)(...)"
      ],
      "metadata": {
        "id": "90gHslSMe76m"
      },
      "execution_count": null,
      "outputs": []
    },
    {
      "cell_type": "code",
      "source": [
        "def foldr2(f, x0, lst):\n",
        "    return foldl(..., ..., lst)(...)"
      ],
      "metadata": {
        "id": "lQciXlR4e76n"
      },
      "execution_count": null,
      "outputs": []
    },
    {
      "cell_type": "markdown",
      "source": [
        "# Задание 1.2\n",
        "\n",
        "нужно написать функцию, которая принимает две строки и проверяет, входит ли хотя бы одна перестановка второй строки в первую. Например:\n",
        "\n",
        "> a = 'abcrotm'\n",
        "> \n",
        "> b = 'tro'\n",
        "\n",
        "функция def check_inv(a, b) вернет True, так как 'rot' содержится в 'abcrotm'. Нужно подумать как можно более оптимальный алгоритм и оценить его сложность. "
      ],
      "metadata": {
        "id": "O-ty87Tme76o"
      }
    },
    {
      "cell_type": "code",
      "source": [
        "def check_inv(a: str, b: str) -> bool:\n",
        "    for begin in range(len(a)-len(b)+1):\n",
        "        if sorted(a[begin:begin+len(b)]) == sorted(b):\n",
        "            return True\n",
        "    return False\n",
        "check_inv('abcrotm', 'tro')\n",
        "#сложность О(len(a)*len(b))"
      ],
      "metadata": {
        "trusted": true,
        "colab": {
          "base_uri": "https://localhost:8080/"
        },
        "id": "Jhw04LK8e76q",
        "outputId": "cffc5a11-d9ec-4b9e-be80-2bf7b5af90ac"
      },
      "execution_count": null,
      "outputs": [
        {
          "output_type": "execute_result",
          "data": {
            "text/plain": [
              "True"
            ]
          },
          "metadata": {},
          "execution_count": 7
        }
      ]
    },
    {
      "cell_type": "markdown",
      "source": [
        "# Задание 1.3\n",
        "\n",
        "Реализовать бинарное дерево (класс Tree), в нём методы __repr__, __str__, __iter__ (итерация только по листьям)."
      ],
      "metadata": {
        "id": "Co5QOg2xe76q"
      }
    },
    {
      "cell_type": "code",
      "source": [
        "class Tree:\n",
        "    def __init__(self, value=None, left=None, right=None):\n",
        "        self.left = left\n",
        "        self.right = right\n",
        "        self.value = value\n",
        "        \n",
        "    def __iter__(self, lst=[]):\n",
        "        if self.left == self.right == None:\n",
        "            lst.append(self.value)\n",
        "        if self.left != None:\n",
        "            iter_tree(self.left, lst)\n",
        "        if self.right != None:\n",
        "            iter_tree(self.right, lst)\n",
        "        return iter(lst)\n",
        "    \n",
        "    def __repr__(self):\n",
        "        if self.right is not None:\n",
        "            text = '<{}({value!r}, {left!r}, {right!r})>'\n",
        "        elif self.left is not None:\n",
        "            text = '<{}({value!r}, {left!r})>'\n",
        "        else:\n",
        "            text = '<{}({value!r})>'\n",
        "        return text.format(type(self).__name__, **vars(self))\n",
        "    \n",
        "    def __str__(self):\n",
        "        return list(self.__iter__())\n",
        "    \n",
        "tree = Tree(0, Tree(1, Tree(3), Tree(4)),                             \n",
        "               Tree(2))\n",
        "\n",
        "list(tree) == [3, 4, 2]"
      ],
      "metadata": {
        "id": "OSNVvBW8e76r"
      },
      "execution_count": null,
      "outputs": []
    },
    {
      "cell_type": "markdown",
      "source": [
        "# Задание 1.4\n",
        "\n",
        "Реализовать простейший калькулятор математических выражений:\n",
        "- только целые числа\n",
        "- **+**, **\\-**, **\\***, **\\**\n",
        "- скобки\n",
        "\n",
        "**Можно использовать регулярные выражения**"
      ],
      "metadata": {
        "id": "-YASpPIse76s"
      }
    },
    {
      "cell_type": "code",
      "source": [
        "def calc(expr):\n",
        "    pass\n",
        "\n",
        "calc('2 * (15 - 3 * 4) - 2') == 4"
      ],
      "metadata": {
        "id": "PaI4d1Ppe76s"
      },
      "execution_count": null,
      "outputs": []
    },
    {
      "cell_type": "code",
      "source": [
        "import re\n",
        "from typing import Any, Union\n",
        "\n",
        "def _is_float(element: str) -> bool:\n",
        "    try:\n",
        "        float(element)\n",
        "        return True\n",
        "    except ValueError:\n",
        "        return False\n",
        "\n",
        "def _get_index(expr: list, value: Any, default: Any):\n",
        "    try:\n",
        "        return expr.index(value)\n",
        "    except ValueError:\n",
        "        return default\n",
        "\n",
        "def _split_expr(expr: Union[str, list]):\n",
        "    if type(expr) == list:\n",
        "        return expr\n",
        "    expr = expr.replace(' ', '')\n",
        "    expr_list = re.split('(\\+|\\-|\\*|\\/|\\(|\\))', expr)\n",
        "    expr_list = list(filter(None, expr_list))\n",
        "    minus_to_remove = []\n",
        "    for i, val in enumerate(expr_list):\n",
        "        if _is_float(val):\n",
        "            expr_list[i] = float(val)\n",
        "        if val == '-' and (i == 0 or not _is_float(expr_list[i-1])):\n",
        "            expr_list[i+1] = '-'+expr_list[i+1]\n",
        "            minus_to_remove.append(i)\n",
        "    for index in sorted(minus_to_remove, reverse=True):\n",
        "        del expr_list[index]\n",
        "    return expr_list\n",
        "\n",
        "# Поиск индекса с закрывающей скобкой\n",
        "def _get_next_bracket_index(expr: list, index: int):\n",
        "    opened_brackets = 1\n",
        "    for i, val in enumerate(expr):\n",
        "        if val == '(':\n",
        "            opened_brackets+=1\n",
        "        if val == ')':\n",
        "            opened_brackets-=1\n",
        "        if opened_brackets == 0:\n",
        "            return i+index+1\n",
        "        \n",
        "def calc(expr: str, ndigits: int = 3):\n",
        "    expr_list = _split_expr(expr)\n",
        "    while '(' in expr_list:\n",
        "        bracket_begin = expr_list.index('(')\n",
        "        bracket_end = _get_next_bracket_index(expr_list[bracket_begin+1:], bracket_begin)\n",
        "        \n",
        "        expr_list = expr_list[:bracket_begin] + [calc(expr_list[bracket_begin+1:bracket_end])]+ \\\n",
        "                    expr_list[bracket_end+1:]\n",
        "    while '*' in expr_list or '/' in expr_list:\n",
        "        sign_index = min(_get_index(expr_list, '*', len(expr_list)+1), \n",
        "                         _get_index(expr_list, '/', len(expr_list)+1))\n",
        "        if expr_list[sign_index] == '*':\n",
        "            expr_list = expr_list[:sign_index-1]+[expr_list[sign_index-1]*expr_list[sign_index+1]]+ \\\n",
        "                        expr_list[sign_index+2:]\n",
        "        elif expr_list[sign_index] == '/':\n",
        "            expr_list = expr_list[:sign_index-1]+[expr_list[sign_index-1]/expr_list[sign_index+1]]+ \\\n",
        "                        expr_list[sign_index+2:]\n",
        "    while '+' in expr_list or '-' in expr_list:\n",
        "        sign_index = min(_get_index(expr_list, '+', len(expr_list)+1), \n",
        "                         _get_index(expr_list, '-', len(expr_list)+1))\n",
        "        \n",
        "        if expr_list[sign_index] == '+':\n",
        "            expr_list = expr_list[:sign_index-1]+[expr_list[sign_index-1]+expr_list[sign_index+1]]+ \\\n",
        "                        expr_list[sign_index+2:]\n",
        "        elif expr_list[sign_index] == '-':\n",
        "            expr_list = expr_list[:sign_index-1]+[expr_list[sign_index-1]-expr_list[sign_index+1]]+ \\\n",
        "                        expr_list[sign_index+2:]     \n",
        "    return round(expr_list[0], ndigits)\n",
        "\n",
        "calc('2 * (15 - 3 * 4) - 2') "
      ],
      "metadata": {
        "trusted": true,
        "id": "NtoFoMfde76t"
      },
      "execution_count": null,
      "outputs": []
    },
    {
      "cell_type": "code",
      "source": [],
      "metadata": {
        "id": "EpUEH300e76v"
      },
      "execution_count": null,
      "outputs": []
    }
  ]
}